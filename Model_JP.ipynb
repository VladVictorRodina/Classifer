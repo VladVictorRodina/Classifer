{
 "cells": [
  {
   "cell_type": "code",
   "execution_count": 1,
   "id": "fee9952a",
   "metadata": {},
   "outputs": [],
   "source": [
    "from tensorflow.keras.applications import EfficientNetB0\n",
    "from tensorflow.keras.preprocessing import image\n",
    "from tensorflow.keras.applications.efficientnet import preprocess_input\n",
    "from tensorflow.keras.applications.efficientnet import decode_predictions\n",
    "import numpy as np"
   ]
  },
  {
   "cell_type": "code",
   "execution_count": 2,
   "id": "5be058a1",
   "metadata": {},
   "outputs": [],
   "source": [
    "# Завантажуємо попередньо навчену модель EfficientNetB0\n",
    "model = EfficientNetB0(weights='imagenet')"
   ]
  },
  {
   "cell_type": "code",
   "execution_count": 3,
   "id": "44b5368c",
   "metadata": {},
   "outputs": [],
   "source": [
    "# Шлях до файлу зображення\n",
    "img_path = 'bus.jpg'"
   ]
  },
  {
   "cell_type": "code",
   "execution_count": 4,
   "id": "288eeec6",
   "metadata": {},
   "outputs": [],
   "source": [
    "# Завантажуємо зображення, змінюємо розмір 224х224\n",
    "img = image.load_img(img_path, target_size=(224, 224))"
   ]
  },
  {
   "cell_type": "code",
   "execution_count": 5,
   "id": "774204de",
   "metadata": {},
   "outputs": [],
   "source": [
    "# Виконуємо попередню обробку зображення\n",
    "x = image.img_to_array(img)\n",
    "x = np.expand_dims(x, axis=0)\n",
    "x = preprocess_input(x)"
   ]
  },
  {
   "cell_type": "code",
   "execution_count": 6,
   "id": "bed09f8a",
   "metadata": {},
   "outputs": [
    {
     "name": "stdout",
     "output_type": "stream",
     "text": [
      "1/1 [==============================] - 6s 6s/step\n"
     ]
    }
   ],
   "source": [
    "# Запускаємо розпізнавання\n",
    "preds = model.predict(x)"
   ]
  },
  {
   "cell_type": "code",
   "execution_count": 7,
   "id": "8b67689c",
   "metadata": {},
   "outputs": [
    {
     "name": "stdout",
     "output_type": "stream",
     "text": [
      "passenger_car 0.7485101\n",
      "minibus 0.15702154\n",
      "school_bus 0.014630211\n"
     ]
    }
   ],
   "source": [
    "# Друкуємо ТОП-3 класи з самою високою ймовірністю\n",
    "classes = decode_predictions(preds, top=3)[0]\n",
    "for cl in classes:\n",
    "    print(cl[1], cl[2])"
   ]
  },
  {
   "cell_type": "code",
   "execution_count": null,
   "id": "94a1d3bd",
   "metadata": {},
   "outputs": [],
   "source": []
  }
 ],
 "metadata": {
  "kernelspec": {
   "display_name": "Python 3 (ipykernel)",
   "language": "python",
   "name": "python3"
  },
  "language_info": {
   "codemirror_mode": {
    "name": "ipython",
    "version": 3
   },
   "file_extension": ".py",
   "mimetype": "text/x-python",
   "name": "python",
   "nbconvert_exporter": "python",
   "pygments_lexer": "ipython3",
   "version": "3.10.7"
  }
 },
 "nbformat": 4,
 "nbformat_minor": 5
}
